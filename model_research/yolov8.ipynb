{
 "cells": [
  {
   "attachments": {},
   "cell_type": "markdown",
   "metadata": {},
   "source": [
    "Make sure to go through create_dataset.ipynb in datasets/brackish\n",
    "Also update the dataset path to the output path you set in brackish.yaml"
   ]
  },
  {
   "cell_type": "code",
   "execution_count": null,
   "metadata": {},
   "outputs": [],
   "source": [
    "from ultralytics import YOLO\n",
    "import ultralytics\n",
    "import os\n",
    "\n",
    "# Use if you want to debug\n",
    "#os.environ[\"CUDA_LAUNCH_BLOCKING\"] = \"1\"\n",
    "\n",
    "if __name__ == \"__main__\":\n",
    "    ultralytics.checks()\n",
    "    model = YOLO(\"yolov8n.pt\")\n",
    "    model.train(\n",
    "        data=\"brackish.yaml\", epochs=50, save=True, show=True, save_txt=True, batch=16, v5loader=True, project=\"fishy\"\n",
    "    )  # train the model\n",
    "\n",
    "    model.val()  # test the model\n"
   ]
  }
 ],
 "metadata": {
  "kernelspec": {
   "display_name": ".venv",
   "language": "python",
   "name": "python3"
  },
  "language_info": {
   "codemirror_mode": {
    "name": "ipython",
    "version": 3
   },
   "file_extension": ".py",
   "mimetype": "text/x-python",
   "name": "python",
   "nbconvert_exporter": "python",
   "pygments_lexer": "ipython3",
   "version": "3.10.6 (main, Nov 14 2022, 16:10:14) [GCC 11.3.0]"
  },
  "orig_nbformat": 4,
  "vscode": {
   "interpreter": {
    "hash": "4f8e5365787798d4b66b26a6428a41300114addd75b65cd304315c53a7a72bf5"
   }
  }
 },
 "nbformat": 4,
 "nbformat_minor": 2
}
