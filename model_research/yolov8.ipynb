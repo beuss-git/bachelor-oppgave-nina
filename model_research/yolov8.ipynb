{
 "cells": [
  {
   "attachments": {},
   "cell_type": "markdown",
   "metadata": {},
   "source": [
    "Make sure to go through create_dataset.ipynb in datasets/brackish\n",
    "Also update the dataset path to the output path you set in brackish.yaml"
   ]
  },
  {
   "cell_type": "code",
   "execution_count": null,
   "metadata": {},
   "outputs": [],
   "source": [
    "from ultralytics import YOLO\n",
    "import ultralytics\n",
    "import os\n",
    "\n",
    "# Use if you want to debug\n",
    "# os.environ[\"CUDA_LAUNCH_BLOCKING\"] = \"1\"\n",
    "\n",
    "if __name__ == \"__main__\":\n",
    "    ultralytics.checks()\n",
    "    model = YOLO(\"yolov8n.pt\")\n",
    "    model.train(\n",
    "        data=\"brackish.yaml\", epochs=1, save=True, show=True, save_txt=True\n",
    "    )  # train the model\n",
    "\n",
    "    model.val(data=\"brackish.yaml\", batch_size=8)  # test the model\n"
   ]
  }
 ],
 "metadata": {
  "kernelspec": {
   "display_name": ".venv",
   "language": "python",
   "name": "python3"
  },
  "language_info": {
   "codemirror_mode": {
    "name": "ipython",
    "version": 3
   },
   "file_extension": ".py",
   "mimetype": "text/x-python",
   "name": "python",
   "nbconvert_exporter": "python",
   "pygments_lexer": "ipython3",
   "version": "3.10.11"
  },
  "orig_nbformat": 4,
  "vscode": {
   "interpreter": {
    "hash": "439c2555bd887d4da4ef5ca66561cd9b070bfa70bdec44144c4af2ed1e5d5a85"
   }
  }
 },
 "nbformat": 4,
 "nbformat_minor": 2
}
